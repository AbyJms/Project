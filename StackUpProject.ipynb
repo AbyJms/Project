{
  "nbformat": 4,
  "nbformat_minor": 0,
  "metadata": {
    "colab": {
      "provenance": [],
      "gpuType": "T4",
      "authorship_tag": "ABX9TyPtvueNDSmVvXNeY0Kyv09D",
      "include_colab_link": true
    },
    "kernelspec": {
      "name": "python3",
      "display_name": "Python 3"
    },
    "language_info": {
      "name": "python"
    },
    "accelerator": "GPU"
  },
  "cells": [
    {
      "cell_type": "markdown",
      "metadata": {
        "id": "view-in-github",
        "colab_type": "text"
      },
      "source": [
        "<a href=\"https://colab.research.google.com/github/AbyJms/Project/blob/main/StackUpProject.ipynb\" target=\"_parent\"><img src=\"https://colab.research.google.com/assets/colab-badge.svg\" alt=\"Open In Colab\"/></a>"
      ]
    },
    {
      "cell_type": "markdown",
      "source": [
        "**Bounty: Llama Chatbot with Sentiment Analysis Integration:**\n",
        "*Customer Support Chatbot: Developing a chatbot that detects user frustration or satisfaction and adjusts its responses to provide better customer service.*"
      ],
      "metadata": {
        "id": "eNLdmGujDNmg"
      }
    },
    {
      "cell_type": "code",
      "execution_count": null,
      "metadata": {
        "id": "8Cs8ZQYUDDh_"
      },
      "outputs": [],
      "source": [
        "import torch\n",
        "from transformers import pipeline, AutoModelForSequenceClassification, AutoTokenizer\n",
        "\n",
        "model = AutoModelForSequenceClassification.from_pretrained(\"nlptown/bert-base-multilingual-uncased-sentiment\")\n",
        "tokenizer = AutoTokenizer.from_pretrained(\"nlptown/bert-base-multilingual-uncased-sentiment\")\n",
        "\n",
        "sentiment_analysis = pipeline(\"sentiment-analysis\", model=model, tokenizer=tokenizer)\n",
        "\n",
        "def get_sentiment(text):\n",
        "    result = sentiment_analysis(text)\n",
        "    sentiment = result[0][\"label\"]\n",
        "    score = result[0][\"score\"]\n",
        "    return sentiment, score\n",
        "\n",
        "def chatbot():\n",
        "    print(\"Welcome to the sentiment analysis chatbot!\")\n",
        "    while True:\n",
        "        user = input(\"Please enter your response: \")\n",
        "        sentiment, score = get_sentiment(user)\n",
        "        if score<=1 and score>=0.51:\n",
        "          print(f\"Your response is positive, with a score of {score:.2f}\")\n",
        "        elif score>=0 and score<=0.49:\n",
        "          print(f\"Your response is negative, with a score of {score:.2f}\")\n",
        "        else:\n",
        "          print(f\"Your response is neutral, with a score of 0.50\")\n",
        "        print(\"*\"*30)\n",
        "        print(\"Do you want to continue? (yes/no): \")\n",
        "        inp= input(\"Please enter your response: \")\n",
        "        print(\"*\"*30)\n",
        "        if inp in ('n','no','NO','No'):\n",
        "          break\n",
        "\n",
        "chatbot()"
      ]
    }
  ]
}